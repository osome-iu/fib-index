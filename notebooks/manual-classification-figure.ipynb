{
 "cells": [
  {
   "cell_type": "markdown",
   "id": "fae226fd",
   "metadata": {},
   "source": [
    "### Create the figure for the manual classification"
   ]
  },
  {
   "cell_type": "code",
   "execution_count": 1,
   "id": "b7d12acb",
   "metadata": {},
   "outputs": [],
   "source": [
    "import pandas as pd\n",
    "import altair as alt\n",
    "\n",
    "import sys\n",
    "\n",
    "sys.path.insert(0, \"../src_clean\")\n",
    "from utils import Loader\n",
    "l = Loader()"
   ]
  },
  {
   "cell_type": "markdown",
   "id": "76ceda81",
   "metadata": {},
   "source": [
    "### Load the data"
   ]
  },
  {
   "cell_type": "code",
   "execution_count": 2,
   "id": "3814469a",
   "metadata": {},
   "outputs": [],
   "source": [
    "# V2 error data\n",
    "error_data = pd.read_csv(\"../data/clean_errors_data.csv\", dtype={'user_id':str})\n",
    "\n",
    "# Final annotations based on majority labels\n",
    "finalized_annotations = pd.read_parquet(\"../data/FINAL_ANNOTATIONS.parquet\")\n",
    "\n",
    "# Accounts with any political affiliation\n",
    "final_political_only = finalized_annotations[finalized_annotations['political_affiliation'] != 'n/a'].copy()\n",
    "final_political_only.loc[:,'label'] = 'any political affiliation'\n",
    "\n",
    "# Follower count data\n",
    "fcounts = pd.read_csv(\n",
    "    \"../data/correlation_rts_removed_w_followers_count.csv\",\n",
    "    index_col=0,\n",
    "    dtype={'user_ids':str}\n",
    ")[[\"user_ids\",\"followers_count\"]]"
   ]
  },
  {
   "cell_type": "code",
   "execution_count": 3,
   "id": "21760735",
   "metadata": {},
   "outputs": [
    {
     "data": {
      "text/html": [
       "<div>\n",
       "<style scoped>\n",
       "    .dataframe tbody tr th:only-of-type {\n",
       "        vertical-align: middle;\n",
       "    }\n",
       "\n",
       "    .dataframe tbody tr th {\n",
       "        vertical-align: top;\n",
       "    }\n",
       "\n",
       "    .dataframe thead th {\n",
       "        text-align: right;\n",
       "    }\n",
       "</style>\n",
       "<table border=\"1\" class=\"dataframe\">\n",
       "  <thead>\n",
       "    <tr style=\"text-align: right;\">\n",
       "      <th></th>\n",
       "      <th>user_id</th>\n",
       "      <th>status</th>\n",
       "      <th>twitter_error</th>\n",
       "    </tr>\n",
       "  </thead>\n",
       "  <tbody>\n",
       "    <tr>\n",
       "      <th>0</th>\n",
       "      <td>1204429316219691008</td>\n",
       "      <td>User has been suspended</td>\n",
       "      <td>https://api.twitter.com/2/problems/resource-no...</td>\n",
       "    </tr>\n",
       "    <tr>\n",
       "      <th>1</th>\n",
       "      <td>1229861495326093312</td>\n",
       "      <td>User has been suspended</td>\n",
       "      <td>https://api.twitter.com/2/problems/resource-no...</td>\n",
       "    </tr>\n",
       "    <tr>\n",
       "      <th>2</th>\n",
       "      <td>1211401123275296770</td>\n",
       "      <td>Could not find user with ids</td>\n",
       "      <td>https://api.twitter.com/2/problems/resource-no...</td>\n",
       "    </tr>\n",
       "    <tr>\n",
       "      <th>3</th>\n",
       "      <td>2994893355</td>\n",
       "      <td>User has been suspended</td>\n",
       "      <td>https://api.twitter.com/2/problems/resource-no...</td>\n",
       "    </tr>\n",
       "    <tr>\n",
       "      <th>4</th>\n",
       "      <td>1083180973276229632</td>\n",
       "      <td>User has been suspended</td>\n",
       "      <td>https://api.twitter.com/2/problems/resource-no...</td>\n",
       "    </tr>\n",
       "    <tr>\n",
       "      <th>...</th>\n",
       "      <td>...</td>\n",
       "      <td>...</td>\n",
       "      <td>...</td>\n",
       "    </tr>\n",
       "    <tr>\n",
       "      <th>14090</th>\n",
       "      <td>1096479510046953473</td>\n",
       "      <td>User has been suspended</td>\n",
       "      <td>https://api.twitter.com/2/problems/resource-no...</td>\n",
       "    </tr>\n",
       "    <tr>\n",
       "      <th>14091</th>\n",
       "      <td>176406752</td>\n",
       "      <td>User has been suspended</td>\n",
       "      <td>https://api.twitter.com/2/problems/resource-no...</td>\n",
       "    </tr>\n",
       "    <tr>\n",
       "      <th>14092</th>\n",
       "      <td>39115118</td>\n",
       "      <td>User has been suspended</td>\n",
       "      <td>https://api.twitter.com/2/problems/resource-no...</td>\n",
       "    </tr>\n",
       "    <tr>\n",
       "      <th>14093</th>\n",
       "      <td>1187142124980068353</td>\n",
       "      <td>User has been suspended</td>\n",
       "      <td>https://api.twitter.com/2/problems/resource-no...</td>\n",
       "    </tr>\n",
       "    <tr>\n",
       "      <th>14094</th>\n",
       "      <td>2440059511</td>\n",
       "      <td>Could not find user with ids</td>\n",
       "      <td>https://api.twitter.com/2/problems/resource-no...</td>\n",
       "    </tr>\n",
       "  </tbody>\n",
       "</table>\n",
       "<p>14095 rows × 3 columns</p>\n",
       "</div>"
      ],
      "text/plain": [
       "                   user_id                        status  \\\n",
       "0      1204429316219691008       User has been suspended   \n",
       "1      1229861495326093312       User has been suspended   \n",
       "2      1211401123275296770  Could not find user with ids   \n",
       "3               2994893355       User has been suspended   \n",
       "4      1083180973276229632       User has been suspended   \n",
       "...                    ...                           ...   \n",
       "14090  1096479510046953473       User has been suspended   \n",
       "14091            176406752       User has been suspended   \n",
       "14092             39115118       User has been suspended   \n",
       "14093  1187142124980068353       User has been suspended   \n",
       "14094           2440059511  Could not find user with ids   \n",
       "\n",
       "                                           twitter_error  \n",
       "0      https://api.twitter.com/2/problems/resource-no...  \n",
       "1      https://api.twitter.com/2/problems/resource-no...  \n",
       "2      https://api.twitter.com/2/problems/resource-no...  \n",
       "3      https://api.twitter.com/2/problems/resource-no...  \n",
       "4      https://api.twitter.com/2/problems/resource-no...  \n",
       "...                                                  ...  \n",
       "14090  https://api.twitter.com/2/problems/resource-no...  \n",
       "14091  https://api.twitter.com/2/problems/resource-no...  \n",
       "14092  https://api.twitter.com/2/problems/resource-no...  \n",
       "14093  https://api.twitter.com/2/problems/resource-no...  \n",
       "14094  https://api.twitter.com/2/problems/resource-no...  \n",
       "\n",
       "[14095 rows x 3 columns]"
      ]
     },
     "execution_count": 3,
     "metadata": {},
     "output_type": "execute_result"
    }
   ],
   "source": [
    "error_data"
   ]
  },
  {
   "cell_type": "code",
   "execution_count": 4,
   "id": "69e8f627",
   "metadata": {},
   "outputs": [
    {
     "data": {
      "text/html": [
       "<div>\n",
       "<style scoped>\n",
       "    .dataframe tbody tr th:only-of-type {\n",
       "        vertical-align: middle;\n",
       "    }\n",
       "\n",
       "    .dataframe tbody tr th {\n",
       "        vertical-align: top;\n",
       "    }\n",
       "\n",
       "    .dataframe thead th {\n",
       "        text-align: right;\n",
       "    }\n",
       "</style>\n",
       "<table border=\"1\" class=\"dataframe\">\n",
       "  <thead>\n",
       "    <tr style=\"text-align: right;\">\n",
       "      <th></th>\n",
       "      <th>user_id</th>\n",
       "      <th>status</th>\n",
       "      <th>twitter_error</th>\n",
       "    </tr>\n",
       "  </thead>\n",
       "  <tbody>\n",
       "    <tr>\n",
       "      <th>0</th>\n",
       "      <td>1204429316219691008</td>\n",
       "      <td>User has been suspended</td>\n",
       "      <td>https://api.twitter.com/2/problems/resource-no...</td>\n",
       "    </tr>\n",
       "    <tr>\n",
       "      <th>1</th>\n",
       "      <td>1229861495326093312</td>\n",
       "      <td>User has been suspended</td>\n",
       "      <td>https://api.twitter.com/2/problems/resource-no...</td>\n",
       "    </tr>\n",
       "    <tr>\n",
       "      <th>2</th>\n",
       "      <td>1211401123275296770</td>\n",
       "      <td>Could not find user with ids</td>\n",
       "      <td>https://api.twitter.com/2/problems/resource-no...</td>\n",
       "    </tr>\n",
       "    <tr>\n",
       "      <th>3</th>\n",
       "      <td>2994893355</td>\n",
       "      <td>User has been suspended</td>\n",
       "      <td>https://api.twitter.com/2/problems/resource-no...</td>\n",
       "    </tr>\n",
       "    <tr>\n",
       "      <th>4</th>\n",
       "      <td>1083180973276229632</td>\n",
       "      <td>User has been suspended</td>\n",
       "      <td>https://api.twitter.com/2/problems/resource-no...</td>\n",
       "    </tr>\n",
       "    <tr>\n",
       "      <th>...</th>\n",
       "      <td>...</td>\n",
       "      <td>...</td>\n",
       "      <td>...</td>\n",
       "    </tr>\n",
       "    <tr>\n",
       "      <th>14090</th>\n",
       "      <td>1096479510046953473</td>\n",
       "      <td>User has been suspended</td>\n",
       "      <td>https://api.twitter.com/2/problems/resource-no...</td>\n",
       "    </tr>\n",
       "    <tr>\n",
       "      <th>14091</th>\n",
       "      <td>176406752</td>\n",
       "      <td>User has been suspended</td>\n",
       "      <td>https://api.twitter.com/2/problems/resource-no...</td>\n",
       "    </tr>\n",
       "    <tr>\n",
       "      <th>14092</th>\n",
       "      <td>39115118</td>\n",
       "      <td>User has been suspended</td>\n",
       "      <td>https://api.twitter.com/2/problems/resource-no...</td>\n",
       "    </tr>\n",
       "    <tr>\n",
       "      <th>14093</th>\n",
       "      <td>1187142124980068353</td>\n",
       "      <td>User has been suspended</td>\n",
       "      <td>https://api.twitter.com/2/problems/resource-no...</td>\n",
       "    </tr>\n",
       "    <tr>\n",
       "      <th>14094</th>\n",
       "      <td>2440059511</td>\n",
       "      <td>Could not find user with ids</td>\n",
       "      <td>https://api.twitter.com/2/problems/resource-no...</td>\n",
       "    </tr>\n",
       "  </tbody>\n",
       "</table>\n",
       "<p>14095 rows × 3 columns</p>\n",
       "</div>"
      ],
      "text/plain": [
       "                   user_id                        status  \\\n",
       "0      1204429316219691008       User has been suspended   \n",
       "1      1229861495326093312       User has been suspended   \n",
       "2      1211401123275296770  Could not find user with ids   \n",
       "3               2994893355       User has been suspended   \n",
       "4      1083180973276229632       User has been suspended   \n",
       "...                    ...                           ...   \n",
       "14090  1096479510046953473       User has been suspended   \n",
       "14091            176406752       User has been suspended   \n",
       "14092             39115118       User has been suspended   \n",
       "14093  1187142124980068353       User has been suspended   \n",
       "14094           2440059511  Could not find user with ids   \n",
       "\n",
       "                                           twitter_error  \n",
       "0      https://api.twitter.com/2/problems/resource-no...  \n",
       "1      https://api.twitter.com/2/problems/resource-no...  \n",
       "2      https://api.twitter.com/2/problems/resource-no...  \n",
       "3      https://api.twitter.com/2/problems/resource-no...  \n",
       "4      https://api.twitter.com/2/problems/resource-no...  \n",
       "...                                                  ...  \n",
       "14090  https://api.twitter.com/2/problems/resource-no...  \n",
       "14091  https://api.twitter.com/2/problems/resource-no...  \n",
       "14092  https://api.twitter.com/2/problems/resource-no...  \n",
       "14093  https://api.twitter.com/2/problems/resource-no...  \n",
       "14094  https://api.twitter.com/2/problems/resource-no...  \n",
       "\n",
       "[14095 rows x 3 columns]"
      ]
     },
     "execution_count": 4,
     "metadata": {},
     "output_type": "execute_result"
    }
   ],
   "source": [
    "l.load_user_data(name=\"v2\",info_type=\"errors\")"
   ]
  },
  {
   "cell_type": "code",
   "execution_count": 5,
   "id": "594b81c8",
   "metadata": {},
   "outputs": [
    {
     "data": {
      "text/html": [
       "<div>\n",
       "<style scoped>\n",
       "    .dataframe tbody tr th:only-of-type {\n",
       "        vertical-align: middle;\n",
       "    }\n",
       "\n",
       "    .dataframe tbody tr th {\n",
       "        vertical-align: top;\n",
       "    }\n",
       "\n",
       "    .dataframe thead th {\n",
       "        text-align: right;\n",
       "    }\n",
       "</style>\n",
       "<table border=\"1\" class=\"dataframe\">\n",
       "  <thead>\n",
       "    <tr style=\"text-align: right;\">\n",
       "      <th></th>\n",
       "      <th>user_id</th>\n",
       "      <th>classification</th>\n",
       "      <th>political_affiliation</th>\n",
       "    </tr>\n",
       "  </thead>\n",
       "  <tbody>\n",
       "    <tr>\n",
       "      <th>0</th>\n",
       "      <td>861186587144577025</td>\n",
       "      <td>not active</td>\n",
       "      <td>n/a</td>\n",
       "    </tr>\n",
       "    <tr>\n",
       "      <th>1</th>\n",
       "      <td>1134618385495527425</td>\n",
       "      <td>other</td>\n",
       "      <td>n/a</td>\n",
       "    </tr>\n",
       "    <tr>\n",
       "      <th>2</th>\n",
       "      <td>875017115979403264</td>\n",
       "      <td>not active</td>\n",
       "      <td>n/a</td>\n",
       "    </tr>\n",
       "    <tr>\n",
       "      <th>3</th>\n",
       "      <td>1199522589573554176</td>\n",
       "      <td>not active</td>\n",
       "      <td>n/a</td>\n",
       "    </tr>\n",
       "    <tr>\n",
       "      <th>4</th>\n",
       "      <td>864934909961523200</td>\n",
       "      <td>not active</td>\n",
       "      <td>n/a</td>\n",
       "    </tr>\n",
       "    <tr>\n",
       "      <th>...</th>\n",
       "      <td>...</td>\n",
       "      <td>...</td>\n",
       "      <td>...</td>\n",
       "    </tr>\n",
       "    <tr>\n",
       "      <th>227</th>\n",
       "      <td>16269666</td>\n",
       "      <td>media outlet</td>\n",
       "      <td>n/a</td>\n",
       "    </tr>\n",
       "    <tr>\n",
       "      <th>228</th>\n",
       "      <td>73928096</td>\n",
       "      <td>organization</td>\n",
       "      <td>n/a</td>\n",
       "    </tr>\n",
       "    <tr>\n",
       "      <th>229</th>\n",
       "      <td>594886554</td>\n",
       "      <td>political</td>\n",
       "      <td>right</td>\n",
       "    </tr>\n",
       "    <tr>\n",
       "      <th>230</th>\n",
       "      <td>375721095</td>\n",
       "      <td>media outlet</td>\n",
       "      <td>n/a</td>\n",
       "    </tr>\n",
       "    <tr>\n",
       "      <th>231</th>\n",
       "      <td>341194704</td>\n",
       "      <td>political</td>\n",
       "      <td>right</td>\n",
       "    </tr>\n",
       "  </tbody>\n",
       "</table>\n",
       "<p>232 rows × 3 columns</p>\n",
       "</div>"
      ],
      "text/plain": [
       "                 user_id classification political_affiliation\n",
       "0     861186587144577025     not active                   n/a\n",
       "1    1134618385495527425          other                   n/a\n",
       "2     875017115979403264     not active                   n/a\n",
       "3    1199522589573554176     not active                   n/a\n",
       "4     864934909961523200     not active                   n/a\n",
       "..                   ...            ...                   ...\n",
       "227             16269666   media outlet                   n/a\n",
       "228             73928096   organization                   n/a\n",
       "229            594886554      political                 right\n",
       "230            375721095   media outlet                   n/a\n",
       "231            341194704      political                 right\n",
       "\n",
       "[232 rows x 3 columns]"
      ]
     },
     "execution_count": 5,
     "metadata": {},
     "output_type": "execute_result"
    }
   ],
   "source": [
    "finalized_annotations"
   ]
  },
  {
   "cell_type": "markdown",
   "id": "b5124672",
   "metadata": {},
   "source": [
    "### Number/percent of non-active that were suspended"
   ]
  },
  {
   "cell_type": "code",
   "execution_count": 6,
   "id": "32c35488",
   "metadata": {},
   "outputs": [
    {
     "name": "stdout",
     "output_type": "stream",
     "text": [
      "Number of non-active accounts suspended: 111\n",
      "Proportion non-active suspended: 0.8671875\n"
     ]
    }
   ],
   "source": [
    "not_active = finalized_annotations[finalized_annotations.classification == \"not active\"]\n",
    "\n",
    "val_counts = pd.merge(\n",
    "    not_active,\n",
    "    error_data,\n",
    "    on='user_id'\n",
    ")['status'].value_counts()\n",
    "\n",
    "num_suspended = val_counts['User has been suspended'] \n",
    "print(f\"Number of non-active accounts suspended: {num_suspended}\")\n",
    "print(f\"Proportion non-active suspended: {num_suspended/len(not_active)}\")"
   ]
  },
  {
   "cell_type": "markdown",
   "id": "176bbf3e",
   "metadata": {},
   "source": [
    "### Load the top FIBers and influential users and calculate the proportion from each that have been suspended"
   ]
  },
  {
   "cell_type": "code",
   "execution_count": 7,
   "id": "7a651245",
   "metadata": {},
   "outputs": [],
   "source": [
    "top_fibers = l.load_iffyp_ss()[['user_id']]\n",
    "num_top_users = len(top_fibers)\n",
    "top_fibers['type'] ='fib'\n",
    "\n",
    "top_inf = l.load_iffyp_baseline(\n",
    "    name=\"influential\"\n",
    ").head(num_top_users)[\n",
    "    ['original_tweeter_user_id']\n",
    "].rename(columns={'original_tweeter_user_id':'user_id'})\n",
    "top_inf['type'] ='inf'\n",
    "\n",
    "top_fib_and_inf = pd.concat([top_fibers, top_inf])"
   ]
  },
  {
   "cell_type": "code",
   "execution_count": 8,
   "id": "72533af5",
   "metadata": {},
   "outputs": [
    {
     "data": {
      "text/html": [
       "<div>\n",
       "<style scoped>\n",
       "    .dataframe tbody tr th:only-of-type {\n",
       "        vertical-align: middle;\n",
       "    }\n",
       "\n",
       "    .dataframe tbody tr th {\n",
       "        vertical-align: top;\n",
       "    }\n",
       "\n",
       "    .dataframe thead th {\n",
       "        text-align: right;\n",
       "    }\n",
       "</style>\n",
       "<table border=\"1\" class=\"dataframe\">\n",
       "  <thead>\n",
       "    <tr style=\"text-align: right;\">\n",
       "      <th></th>\n",
       "      <th>user_id</th>\n",
       "      <th>type</th>\n",
       "    </tr>\n",
       "  </thead>\n",
       "  <tbody>\n",
       "    <tr>\n",
       "      <th>0</th>\n",
       "      <td>4765364386</td>\n",
       "      <td>fib</td>\n",
       "    </tr>\n",
       "    <tr>\n",
       "      <th>1</th>\n",
       "      <td>3530404094</td>\n",
       "      <td>fib</td>\n",
       "    </tr>\n",
       "    <tr>\n",
       "      <th>2</th>\n",
       "      <td>41634520</td>\n",
       "      <td>fib</td>\n",
       "    </tr>\n",
       "    <tr>\n",
       "      <th>3</th>\n",
       "      <td>232901331</td>\n",
       "      <td>fib</td>\n",
       "    </tr>\n",
       "    <tr>\n",
       "      <th>4</th>\n",
       "      <td>2981776113</td>\n",
       "      <td>fib</td>\n",
       "    </tr>\n",
       "    <tr>\n",
       "      <th>...</th>\n",
       "      <td>...</td>\n",
       "      <td>...</td>\n",
       "    </tr>\n",
       "    <tr>\n",
       "      <th>176</th>\n",
       "      <td>915231714724712448</td>\n",
       "      <td>inf</td>\n",
       "    </tr>\n",
       "    <tr>\n",
       "      <th>177</th>\n",
       "      <td>11454572</td>\n",
       "      <td>inf</td>\n",
       "    </tr>\n",
       "    <tr>\n",
       "      <th>178</th>\n",
       "      <td>1037648264672079872</td>\n",
       "      <td>inf</td>\n",
       "    </tr>\n",
       "    <tr>\n",
       "      <th>179</th>\n",
       "      <td>806347865073315844</td>\n",
       "      <td>inf</td>\n",
       "    </tr>\n",
       "    <tr>\n",
       "      <th>180</th>\n",
       "      <td>49682880</td>\n",
       "      <td>inf</td>\n",
       "    </tr>\n",
       "  </tbody>\n",
       "</table>\n",
       "<p>362 rows × 2 columns</p>\n",
       "</div>"
      ],
      "text/plain": [
       "                 user_id type\n",
       "0             4765364386  fib\n",
       "1             3530404094  fib\n",
       "2               41634520  fib\n",
       "3              232901331  fib\n",
       "4             2981776113  fib\n",
       "..                   ...  ...\n",
       "176   915231714724712448  inf\n",
       "177             11454572  inf\n",
       "178  1037648264672079872  inf\n",
       "179   806347865073315844  inf\n",
       "180             49682880  inf\n",
       "\n",
       "[362 rows x 2 columns]"
      ]
     },
     "execution_count": 8,
     "metadata": {},
     "output_type": "execute_result"
    }
   ],
   "source": [
    "top_fib_and_inf"
   ]
  },
  {
   "cell_type": "code",
   "execution_count": 9,
   "id": "e9772238",
   "metadata": {},
   "outputs": [
    {
     "name": "stdout",
     "output_type": "stream",
     "text": [
      "Values:\n",
      "fib    86\n",
      "inf    78\n",
      "Name: type, dtype: int64\n",
      "Proportions:\n",
      "fib    0.475138\n",
      "inf    0.430939\n",
      "Name: type, dtype: float64\n"
     ]
    }
   ],
   "source": [
    "worst_w_errors = error_data.merge(top_fib_and_inf, on='user_id')\n",
    "worst_w_suspensions = worst_w_errors[\n",
    "    worst_w_errors.status == \"User has been suspended\"\n",
    "]\n",
    "\n",
    "counts = worst_w_suspensions.type.value_counts()\n",
    "\n",
    "\n",
    "print(f\"Values:\\n{counts}\")\n",
    "\n",
    "\n",
    "props = counts / num_top_users\n",
    "print(f\"Proportions:\\n{props}\")\n"
   ]
  },
  {
   "cell_type": "markdown",
   "id": "641eb59d",
   "metadata": {},
   "source": [
    "### Count and proportion of each category for only the activate accounts"
   ]
  },
  {
   "cell_type": "code",
   "execution_count": 10,
   "id": "66d04dce",
   "metadata": {},
   "outputs": [
    {
     "data": {
      "text/plain": [
       "political       54\n",
       "other           14\n",
       "media outlet    12\n",
       "media aff.       7\n",
       "intellectual     5\n",
       "new media        4\n",
       "organization     4\n",
       "pub. service     2\n",
       "broad. news      1\n",
       "hard news        1\n",
       "Name: classification, dtype: int64"
      ]
     },
     "execution_count": 10,
     "metadata": {},
     "output_type": "execute_result"
    }
   ],
   "source": [
    "finalized_annotations[\n",
    "    finalized_annotations['classification'] != \"not active\"\n",
    "]['classification'].value_counts()"
   ]
  },
  {
   "cell_type": "code",
   "execution_count": 11,
   "id": "d53539c7",
   "metadata": {},
   "outputs": [
    {
     "data": {
      "text/plain": [
       "political       51.923077\n",
       "other           13.461538\n",
       "media outlet    11.538462\n",
       "media aff.       6.730769\n",
       "intellectual     4.807692\n",
       "new media        3.846154\n",
       "organization     3.846154\n",
       "pub. service     1.923077\n",
       "broad. news      0.961538\n",
       "hard news        0.961538\n",
       "Name: classification, dtype: float64"
      ]
     },
     "execution_count": 11,
     "metadata": {},
     "output_type": "execute_result"
    }
   ],
   "source": [
    "active = finalized_annotations[\n",
    "    finalized_annotations['classification'] != \"not active\"\n",
    "]\n",
    "\n",
    "active['classification'].value_counts(normalize=True) * 100"
   ]
  },
  {
   "cell_type": "markdown",
   "id": "a3132ad8",
   "metadata": {},
   "source": [
    "### Calculate the median number of followers for the `other` group"
   ]
  },
  {
   "cell_type": "code",
   "execution_count": 12,
   "id": "ad25ffb7",
   "metadata": {},
   "outputs": [
    {
     "data": {
      "text/html": [
       "<div>\n",
       "<style scoped>\n",
       "    .dataframe tbody tr th:only-of-type {\n",
       "        vertical-align: middle;\n",
       "    }\n",
       "\n",
       "    .dataframe tbody tr th {\n",
       "        vertical-align: top;\n",
       "    }\n",
       "\n",
       "    .dataframe thead th {\n",
       "        text-align: right;\n",
       "    }\n",
       "</style>\n",
       "<table border=\"1\" class=\"dataframe\">\n",
       "  <thead>\n",
       "    <tr style=\"text-align: right;\">\n",
       "      <th></th>\n",
       "      <th>user_id</th>\n",
       "      <th>classification</th>\n",
       "      <th>political_affiliation</th>\n",
       "    </tr>\n",
       "  </thead>\n",
       "  <tbody>\n",
       "    <tr>\n",
       "      <th>1</th>\n",
       "      <td>1134618385495527425</td>\n",
       "      <td>other</td>\n",
       "      <td>n/a</td>\n",
       "    </tr>\n",
       "    <tr>\n",
       "      <th>12</th>\n",
       "      <td>1018425398869282817</td>\n",
       "      <td>other</td>\n",
       "      <td>n/a</td>\n",
       "    </tr>\n",
       "    <tr>\n",
       "      <th>27</th>\n",
       "      <td>1274690550</td>\n",
       "      <td>other</td>\n",
       "      <td>n/a</td>\n",
       "    </tr>\n",
       "    <tr>\n",
       "      <th>64</th>\n",
       "      <td>1071493866489044993</td>\n",
       "      <td>other</td>\n",
       "      <td>n/a</td>\n",
       "    </tr>\n",
       "    <tr>\n",
       "      <th>96</th>\n",
       "      <td>94120026</td>\n",
       "      <td>other</td>\n",
       "      <td>n/a</td>\n",
       "    </tr>\n",
       "  </tbody>\n",
       "</table>\n",
       "</div>"
      ],
      "text/plain": [
       "                user_id classification political_affiliation\n",
       "1   1134618385495527425          other                   n/a\n",
       "12  1018425398869282817          other                   n/a\n",
       "27           1274690550          other                   n/a\n",
       "64  1071493866489044993          other                   n/a\n",
       "96             94120026          other                   n/a"
      ]
     },
     "execution_count": 12,
     "metadata": {},
     "output_type": "execute_result"
    }
   ],
   "source": [
    "other_only = finalized_annotations[finalized_annotations.classification == \"other\"].copy()\n",
    "other_only.head()"
   ]
  },
  {
   "cell_type": "code",
   "execution_count": 13,
   "id": "87456dfe",
   "metadata": {},
   "outputs": [
    {
     "data": {
      "text/plain": [
       "13774.766691013363"
      ]
     },
     "execution_count": 13,
     "metadata": {},
     "output_type": "execute_result"
    }
   ],
   "source": [
    "# merge users with the follower count dataframe\n",
    "other_w_fcounts = pd.merge(\n",
    "    other_only,\n",
    "    fcounts,\n",
    "    left_on=\"user_id\",\n",
    "    right_on=\"user_ids\"\n",
    ")\n",
    "\n",
    "# Ensure we have the same number of users\n",
    "assert len(other_only) == len(other_w_fcounts), \"Missing users!\"\n",
    "\n",
    "# In the paper we round up to an even 14k\n",
    "other_w_fcounts.followers_count.median()"
   ]
  },
  {
   "cell_type": "markdown",
   "id": "1160308b",
   "metadata": {},
   "source": [
    "### Calculate the proportion of accounts that are \"media related\""
   ]
  },
  {
   "cell_type": "code",
   "execution_count": 14,
   "id": "18a3d8e9",
   "metadata": {},
   "outputs": [
    {
     "name": "stdout",
     "output_type": "stream",
     "text": [
      "Number of media related: 19\n",
      "Proportion of active that are media related: 0.18269230769230768\n",
      "Percent of active that are media related: 18.269231%\n"
     ]
    }
   ],
   "source": [
    "media_related = finalized_annotations[\n",
    "    finalized_annotations.classification.isin(['media aff.', 'media outlet'])\n",
    "].copy()\n",
    "\n",
    "num_media = len(media_related)\n",
    "num_active = len(active)\n",
    "\n",
    "print(f\"Number of media related: {num_media}\")\n",
    "print(f\"Proportion of active that are media related: {num_media/num_active}\")\n",
    "print(f\"Percent of active that are media related: {num_media/num_active:%}\")"
   ]
  },
  {
   "cell_type": "markdown",
   "id": "ec6d8911",
   "metadata": {},
   "source": [
    "### Calculate the number/proportion of accounts that are left/right for those categorized as `political`"
   ]
  },
  {
   "cell_type": "code",
   "execution_count": 15,
   "id": "c8908098",
   "metadata": {},
   "outputs": [
    {
     "data": {
      "text/html": [
       "<div>\n",
       "<style scoped>\n",
       "    .dataframe tbody tr th:only-of-type {\n",
       "        vertical-align: middle;\n",
       "    }\n",
       "\n",
       "    .dataframe tbody tr th {\n",
       "        vertical-align: top;\n",
       "    }\n",
       "\n",
       "    .dataframe thead th {\n",
       "        text-align: right;\n",
       "    }\n",
       "</style>\n",
       "<table border=\"1\" class=\"dataframe\">\n",
       "  <thead>\n",
       "    <tr style=\"text-align: right;\">\n",
       "      <th></th>\n",
       "      <th>user_id</th>\n",
       "      <th>classification</th>\n",
       "      <th>political_affiliation</th>\n",
       "    </tr>\n",
       "  </thead>\n",
       "  <tbody>\n",
       "    <tr>\n",
       "      <th>6</th>\n",
       "      <td>3314383418</td>\n",
       "      <td>political</td>\n",
       "      <td>right</td>\n",
       "    </tr>\n",
       "    <tr>\n",
       "      <th>13</th>\n",
       "      <td>2176476241</td>\n",
       "      <td>political</td>\n",
       "      <td>right</td>\n",
       "    </tr>\n",
       "    <tr>\n",
       "      <th>23</th>\n",
       "      <td>186562905</td>\n",
       "      <td>political</td>\n",
       "      <td>right</td>\n",
       "    </tr>\n",
       "    <tr>\n",
       "      <th>25</th>\n",
       "      <td>1494835716</td>\n",
       "      <td>political</td>\n",
       "      <td>right</td>\n",
       "    </tr>\n",
       "    <tr>\n",
       "      <th>26</th>\n",
       "      <td>4765364386</td>\n",
       "      <td>political</td>\n",
       "      <td>right</td>\n",
       "    </tr>\n",
       "  </tbody>\n",
       "</table>\n",
       "</div>"
      ],
      "text/plain": [
       "       user_id classification political_affiliation\n",
       "6   3314383418      political                 right\n",
       "13  2176476241      political                 right\n",
       "23   186562905      political                 right\n",
       "25  1494835716      political                 right\n",
       "26  4765364386      political                 right"
      ]
     },
     "execution_count": 15,
     "metadata": {},
     "output_type": "execute_result"
    }
   ],
   "source": [
    "pol_only = finalized_annotations[\n",
    "    finalized_annotations.classification == 'political'\n",
    "].copy()\n",
    "pol_only.head()"
   ]
  },
  {
   "cell_type": "code",
   "execution_count": 16,
   "id": "e015c57e",
   "metadata": {},
   "outputs": [
    {
     "data": {
      "text/plain": [
       "right    49\n",
       "left      5\n",
       "Name: political_affiliation, dtype: int64"
      ]
     },
     "execution_count": 16,
     "metadata": {},
     "output_type": "execute_result"
    }
   ],
   "source": [
    "pol_only.political_affiliation.value_counts()"
   ]
  },
  {
   "cell_type": "code",
   "execution_count": 17,
   "id": "6ebf1917",
   "metadata": {},
   "outputs": [
    {
     "data": {
      "text/plain": [
       "right    0.907407\n",
       "left     0.092593\n",
       "Name: political_affiliation, dtype: float64"
      ]
     },
     "execution_count": 17,
     "metadata": {},
     "output_type": "execute_result"
    }
   ],
   "source": [
    "pol_only.political_affiliation.value_counts(normalize=True)"
   ]
  },
  {
   "cell_type": "code",
   "execution_count": null,
   "id": "83262b05",
   "metadata": {},
   "outputs": [],
   "source": []
  },
  {
   "cell_type": "markdown",
   "id": "6e930340",
   "metadata": {},
   "source": [
    "### Calculate the number/proportion of accounts that are left/right for any category with any political affiliation\n",
    "\n",
    "As a reminder, we do the below earlier in the notebook to create the `final_political_only` frame.\n",
    "```py\n",
    "final_political_only = finalized_annotations[finalized_annotations['political_affiliation'] != 'n/a'].copy()\n",
    "final_political_only.loc[:,'label'] = 'any political affiliation'\n",
    "```"
   ]
  },
  {
   "cell_type": "code",
   "execution_count": 18,
   "id": "a56ae2b8",
   "metadata": {},
   "outputs": [
    {
     "data": {
      "text/plain": [
       "right    63\n",
       "left      6\n",
       "Name: political_affiliation, dtype: int64"
      ]
     },
     "execution_count": 18,
     "metadata": {},
     "output_type": "execute_result"
    }
   ],
   "source": [
    "final_political_only.political_affiliation.value_counts()"
   ]
  },
  {
   "cell_type": "code",
   "execution_count": 19,
   "id": "0e534871",
   "metadata": {},
   "outputs": [
    {
     "data": {
      "text/plain": [
       "right    0.913043\n",
       "left     0.086957\n",
       "Name: political_affiliation, dtype: float64"
      ]
     },
     "execution_count": 19,
     "metadata": {},
     "output_type": "execute_result"
    }
   ],
   "source": [
    "final_political_only.political_affiliation.value_counts(normalize=True)"
   ]
  },
  {
   "cell_type": "code",
   "execution_count": null,
   "id": "a9c3a3e6",
   "metadata": {},
   "outputs": [],
   "source": []
  },
  {
   "cell_type": "code",
   "execution_count": null,
   "id": "ff74c234",
   "metadata": {},
   "outputs": [],
   "source": []
  },
  {
   "cell_type": "markdown",
   "id": "c20381c0",
   "metadata": {},
   "source": [
    "### Create the figure"
   ]
  },
  {
   "cell_type": "code",
   "execution_count": null,
   "id": "374ef1ef",
   "metadata": {},
   "outputs": [],
   "source": []
  },
  {
   "cell_type": "code",
   "execution_count": 20,
   "id": "5d780b93",
   "metadata": {},
   "outputs": [
    {
     "data": {
      "text/html": [
       "\n",
       "<div id=\"altair-viz-bbccefc609fa44f79f142bf0fb0f5f6e\"></div>\n",
       "<script type=\"text/javascript\">\n",
       "  var VEGA_DEBUG = (typeof VEGA_DEBUG == \"undefined\") ? {} : VEGA_DEBUG;\n",
       "  (function(spec, embedOpt){\n",
       "    let outputDiv = document.currentScript.previousElementSibling;\n",
       "    if (outputDiv.id !== \"altair-viz-bbccefc609fa44f79f142bf0fb0f5f6e\") {\n",
       "      outputDiv = document.getElementById(\"altair-viz-bbccefc609fa44f79f142bf0fb0f5f6e\");\n",
       "    }\n",
       "    const paths = {\n",
       "      \"vega\": \"https://cdn.jsdelivr.net/npm//vega@5?noext\",\n",
       "      \"vega-lib\": \"https://cdn.jsdelivr.net/npm//vega-lib?noext\",\n",
       "      \"vega-lite\": \"https://cdn.jsdelivr.net/npm//vega-lite@4.17.0?noext\",\n",
       "      \"vega-embed\": \"https://cdn.jsdelivr.net/npm//vega-embed@6?noext\",\n",
       "    };\n",
       "\n",
       "    function maybeLoadScript(lib, version) {\n",
       "      var key = `${lib.replace(\"-\", \"\")}_version`;\n",
       "      return (VEGA_DEBUG[key] == version) ?\n",
       "        Promise.resolve(paths[lib]) :\n",
       "        new Promise(function(resolve, reject) {\n",
       "          var s = document.createElement('script');\n",
       "          document.getElementsByTagName(\"head\")[0].appendChild(s);\n",
       "          s.async = true;\n",
       "          s.onload = () => {\n",
       "            VEGA_DEBUG[key] = version;\n",
       "            return resolve(paths[lib]);\n",
       "          };\n",
       "          s.onerror = () => reject(`Error loading script: ${paths[lib]}`);\n",
       "          s.src = paths[lib];\n",
       "        });\n",
       "    }\n",
       "\n",
       "    function showError(err) {\n",
       "      outputDiv.innerHTML = `<div class=\"error\" style=\"color:red;\">${err}</div>`;\n",
       "      throw err;\n",
       "    }\n",
       "\n",
       "    function displayChart(vegaEmbed) {\n",
       "      vegaEmbed(outputDiv, spec, embedOpt)\n",
       "        .catch(err => showError(`Javascript Error: ${err.message}<br>This usually means there's a typo in your chart specification. See the javascript console for the full traceback.`));\n",
       "    }\n",
       "\n",
       "    if(typeof define === \"function\" && define.amd) {\n",
       "      requirejs.config({paths});\n",
       "      require([\"vega-embed\"], displayChart, err => showError(`Error loading script: ${err.message}`));\n",
       "    } else {\n",
       "      maybeLoadScript(\"vega\", \"5\")\n",
       "        .then(() => maybeLoadScript(\"vega-lite\", \"4.17.0\"))\n",
       "        .then(() => maybeLoadScript(\"vega-embed\", \"6\"))\n",
       "        .catch(showError)\n",
       "        .then(() => displayChart(vegaEmbed));\n",
       "    }\n",
       "  })({\"config\": {\"view\": {\"continuousWidth\": 400, \"continuousHeight\": 300}}, \"layer\": [{\"mark\": {\"type\": \"bar\", \"size\": 20}, \"encoding\": {\"color\": {\"field\": \"political_affiliation\", \"scale\": {\"domain\": [\"left\", \"right\", \"n/a\"], \"range\": [\"blue\", \"red\", \"silver\"]}, \"type\": \"nominal\"}, \"x\": {\"aggregate\": \"count\", \"field\": \"classification\", \"scale\": {\"domain\": [0, 140]}, \"title\": [\"Number of users\"], \"type\": \"quantitative\"}, \"y\": {\"axis\": {\"labelFontSize\": 14, \"title\": null}, \"field\": \"label\", \"type\": \"nominal\"}}, \"width\": 650}, {\"mark\": {\"type\": \"text\", \"align\": \"left\", \"dx\": 4, \"fontSize\": 16}, \"encoding\": {\"text\": {\"aggregate\": \"count\", \"field\": \"classification\", \"type\": \"quantitative\"}, \"x\": {\"aggregate\": \"count\", \"axis\": {\"labelFontSize\": 14, \"title\": [\"Number of users\"], \"titleFontSize\": 15}, \"field\": \"classification\", \"scale\": {\"domain\": [0, 140]}, \"type\": \"quantitative\"}, \"y\": {\"axis\": {\"labelFontSize\": 14, \"title\": null}, \"field\": \"label\", \"type\": \"nominal\"}}}], \"data\": {\"name\": \"data-b7ac14492cfc1072454b8303f4d11aab\"}, \"$schema\": \"https://vega.github.io/schema/vega-lite/v4.17.0.json\", \"datasets\": {\"data-b7ac14492cfc1072454b8303f4d11aab\": [{\"user_id\": \"3314383418\", \"classification\": \"political\", \"political_affiliation\": \"right\", \"label\": \"any political affiliation\"}, {\"user_id\": \"462104542\", \"classification\": \"new media\", \"political_affiliation\": \"right\", \"label\": \"any political affiliation\"}, {\"user_id\": \"29398579\", \"classification\": \"media aff.\", \"political_affiliation\": \"right\", \"label\": \"any political affiliation\"}, {\"user_id\": \"2176476241\", \"classification\": \"political\", \"political_affiliation\": \"right\", \"label\": \"any political affiliation\"}, {\"user_id\": \"186562905\", \"classification\": \"political\", \"political_affiliation\": \"right\", \"label\": \"any political affiliation\"}, {\"user_id\": \"1494835716\", \"classification\": \"political\", \"political_affiliation\": \"right\", \"label\": \"any political affiliation\"}, {\"user_id\": \"4765364386\", \"classification\": \"political\", \"political_affiliation\": \"right\", \"label\": \"any political affiliation\"}, {\"user_id\": \"734168909553766405\", \"classification\": \"political\", \"political_affiliation\": \"right\", \"label\": \"any political affiliation\"}, {\"user_id\": \"41634520\", \"classification\": \"broad. news\", \"political_affiliation\": \"right\", \"label\": \"any political affiliation\"}, {\"user_id\": \"878916812\", \"classification\": \"political\", \"political_affiliation\": \"right\", \"label\": \"any political affiliation\"}, {\"user_id\": \"921880207870459904\", \"classification\": \"media outlet\", \"political_affiliation\": \"right\", \"label\": \"any political affiliation\"}, {\"user_id\": \"1088817055602757633\", \"classification\": \"political\", \"political_affiliation\": \"right\", \"label\": \"any political affiliation\"}, {\"user_id\": \"43753976\", \"classification\": \"political\", \"political_affiliation\": \"right\", \"label\": \"any political affiliation\"}, {\"user_id\": \"478855762\", \"classification\": \"political\", \"political_affiliation\": \"right\", \"label\": \"any political affiliation\"}, {\"user_id\": \"1162682346094522370\", \"classification\": \"political\", \"political_affiliation\": \"right\", \"label\": \"any political affiliation\"}, {\"user_id\": \"446228264\", \"classification\": \"political\", \"political_affiliation\": \"right\", \"label\": \"any political affiliation\"}, {\"user_id\": \"1196926455990632449\", \"classification\": \"media outlet\", \"political_affiliation\": \"right\", \"label\": \"any political affiliation\"}, {\"user_id\": \"1036239330984054784\", \"classification\": \"political\", \"political_affiliation\": \"right\", \"label\": \"any political affiliation\"}, {\"user_id\": \"1121554471\", \"classification\": \"hard news\", \"political_affiliation\": \"right\", \"label\": \"any political affiliation\"}, {\"user_id\": \"803017539903029248\", \"classification\": \"political\", \"political_affiliation\": \"right\", \"label\": \"any political affiliation\"}, {\"user_id\": \"19130146\", \"classification\": \"media aff.\", \"political_affiliation\": \"right\", \"label\": \"any political affiliation\"}, {\"user_id\": \"895286614431346688\", \"classification\": \"political\", \"political_affiliation\": \"right\", \"label\": \"any political affiliation\"}, {\"user_id\": \"29873671\", \"classification\": \"political\", \"political_affiliation\": \"right\", \"label\": \"any political affiliation\"}, {\"user_id\": \"1153042794375712770\", \"classification\": \"political\", \"political_affiliation\": \"right\", \"label\": \"any political affiliation\"}, {\"user_id\": \"232901331\", \"classification\": \"political\", \"political_affiliation\": \"right\", \"label\": \"any political affiliation\"}, {\"user_id\": \"138889809\", \"classification\": \"political\", \"political_affiliation\": \"right\", \"label\": \"any political affiliation\"}, {\"user_id\": \"162301746\", \"classification\": \"political\", \"political_affiliation\": \"right\", \"label\": \"any political affiliation\"}, {\"user_id\": \"1106312355267469312\", \"classification\": \"political\", \"political_affiliation\": \"right\", \"label\": \"any political affiliation\"}, {\"user_id\": \"19422491\", \"classification\": \"new media\", \"political_affiliation\": \"left\", \"label\": \"any political affiliation\"}, {\"user_id\": \"18643437\", \"classification\": \"political\", \"political_affiliation\": \"right\", \"label\": \"any political affiliation\"}, {\"user_id\": \"2757833205\", \"classification\": \"political\", \"political_affiliation\": \"right\", \"label\": \"any political affiliation\"}, {\"user_id\": \"16279880\", \"classification\": \"political\", \"political_affiliation\": \"right\", \"label\": \"any political affiliation\"}, {\"user_id\": \"802121664\", \"classification\": \"political\", \"political_affiliation\": \"right\", \"label\": \"any political affiliation\"}, {\"user_id\": \"1000141948269678592\", \"classification\": \"political\", \"political_affiliation\": \"right\", \"label\": \"any political affiliation\"}, {\"user_id\": \"275276082\", \"classification\": \"political\", \"political_affiliation\": \"right\", \"label\": \"any political affiliation\"}, {\"user_id\": \"592730371\", \"classification\": \"political\", \"political_affiliation\": \"right\", \"label\": \"any political affiliation\"}, {\"user_id\": \"116356889\", \"classification\": \"political\", \"political_affiliation\": \"right\", \"label\": \"any political affiliation\"}, {\"user_id\": \"18247062\", \"classification\": \"political\", \"political_affiliation\": \"right\", \"label\": \"any political affiliation\"}, {\"user_id\": \"839099917121511425\", \"classification\": \"political\", \"political_affiliation\": \"right\", \"label\": \"any political affiliation\"}, {\"user_id\": \"18266688\", \"classification\": \"political\", \"political_affiliation\": \"right\", \"label\": \"any political affiliation\"}, {\"user_id\": \"2451476942\", \"classification\": \"media outlet\", \"political_affiliation\": \"right\", \"label\": \"any political affiliation\"}, {\"user_id\": \"2981776113\", \"classification\": \"political\", \"political_affiliation\": \"right\", \"label\": \"any political affiliation\"}, {\"user_id\": \"92928883\", \"classification\": \"political\", \"political_affiliation\": \"right\", \"label\": \"any political affiliation\"}, {\"user_id\": \"123617604\", \"classification\": \"political\", \"political_affiliation\": \"right\", \"label\": \"any political affiliation\"}, {\"user_id\": \"1216789842\", \"classification\": \"political\", \"political_affiliation\": \"left\", \"label\": \"any political affiliation\"}, {\"user_id\": \"806347865073315844\", \"classification\": \"political\", \"political_affiliation\": \"right\", \"label\": \"any political affiliation\"}, {\"user_id\": \"727137760574857216\", \"classification\": \"political\", \"political_affiliation\": \"right\", \"label\": \"any political affiliation\"}, {\"user_id\": \"49682880\", \"classification\": \"political\", \"political_affiliation\": \"left\", \"label\": \"any political affiliation\"}, {\"user_id\": \"86177206\", \"classification\": \"political\", \"political_affiliation\": \"right\", \"label\": \"any political affiliation\"}, {\"user_id\": \"954124423\", \"classification\": \"political\", \"political_affiliation\": \"right\", \"label\": \"any political affiliation\"}, {\"user_id\": \"2417586104\", \"classification\": \"political\", \"political_affiliation\": \"right\", \"label\": \"any political affiliation\"}, {\"user_id\": \"22677397\", \"classification\": \"political\", \"political_affiliation\": \"right\", \"label\": \"any political affiliation\"}, {\"user_id\": \"39344374\", \"classification\": \"political\", \"political_affiliation\": \"right\", \"label\": \"any political affiliation\"}, {\"user_id\": \"903313767596822528\", \"classification\": \"media outlet\", \"political_affiliation\": \"right\", \"label\": \"any political affiliation\"}, {\"user_id\": \"14247236\", \"classification\": \"political\", \"political_affiliation\": \"left\", \"label\": \"any political affiliation\"}, {\"user_id\": \"770781940341288960\", \"classification\": \"political\", \"political_affiliation\": \"right\", \"label\": \"any political affiliation\"}, {\"user_id\": \"52544275\", \"classification\": \"political\", \"political_affiliation\": \"right\", \"label\": \"any political affiliation\"}, {\"user_id\": \"11134252\", \"classification\": \"political\", \"political_affiliation\": \"right\", \"label\": \"any political affiliation\"}, {\"user_id\": \"1148711615686160384\", \"classification\": \"media aff.\", \"political_affiliation\": \"right\", \"label\": \"any political affiliation\"}, {\"user_id\": \"19553409\", \"classification\": \"political\", \"political_affiliation\": \"right\", \"label\": \"any political affiliation\"}, {\"user_id\": \"14377605\", \"classification\": \"political\", \"political_affiliation\": \"left\", \"label\": \"any political affiliation\"}, {\"user_id\": \"856991644134068224\", \"classification\": \"media outlet\", \"political_affiliation\": \"right\", \"label\": \"any political affiliation\"}, {\"user_id\": \"631310817\", \"classification\": \"new media\", \"political_affiliation\": \"right\", \"label\": \"any political affiliation\"}, {\"user_id\": \"95588504\", \"classification\": \"political\", \"political_affiliation\": \"right\", \"label\": \"any political affiliation\"}, {\"user_id\": \"27493883\", \"classification\": \"political\", \"political_affiliation\": \"left\", \"label\": \"any political affiliation\"}, {\"user_id\": \"125128723\", \"classification\": \"media aff.\", \"political_affiliation\": \"right\", \"label\": \"any political affiliation\"}, {\"user_id\": \"1194770389634895873\", \"classification\": \"media outlet\", \"political_affiliation\": \"right\", \"label\": \"any political affiliation\"}, {\"user_id\": \"594886554\", \"classification\": \"political\", \"political_affiliation\": \"right\", \"label\": \"any political affiliation\"}, {\"user_id\": \"341194704\", \"classification\": \"political\", \"political_affiliation\": \"right\", \"label\": \"any political affiliation\"}]}}, {\"mode\": \"vega-lite\"});\n",
       "</script>"
      ],
      "text/plain": [
       "alt.LayerChart(...)"
      ]
     },
     "execution_count": 20,
     "metadata": {},
     "output_type": "execute_result"
    }
   ],
   "source": [
    "agg_pa = alt.Chart(final_political_only).mark_bar(size=20).encode(\n",
    "    x = alt.X(\n",
    "        \"count(classification):Q\",\n",
    "        scale = alt.Scale(domain=[0,140]),\n",
    "        title = [\"Number of users\"]\n",
    "    ),\n",
    "    y = alt.Y(\n",
    "        'label:N',\n",
    "        axis = alt.Axis(\n",
    "            title = None,\n",
    "            labelFontSize= 14\n",
    "        )\n",
    "    ),\n",
    "    color = alt.Color(\n",
    "        \"political_affiliation:N\",\n",
    "        scale=alt.Scale(\n",
    "            domain=[\"left\",\"right\",\"n/a\"],\n",
    "            range=[\"blue\",\"red\",\"silver\"]\n",
    "        ),\n",
    "    ),\n",
    ").properties(width = 650)\n",
    "\n",
    "agg_text = alt.Chart(final_political_only).mark_text(\n",
    "    align=\"left\",\n",
    "    dx=4,\n",
    "    fontSize=16\n",
    ").encode(\n",
    "    x = alt.X(\n",
    "        \"count(classification):Q\",\n",
    "        scale = alt.Scale(domain=[0,140]),\n",
    "        axis = alt.Axis(\n",
    "            title = [\"Number of users\"],\n",
    "            titleFontSize = 15,\n",
    "            labelFontSize= 14\n",
    "        ),\n",
    "    ),\n",
    "    y = alt.Y(\n",
    "        \"label:N\",\n",
    "        axis = alt.Axis(\n",
    "            title = None,\n",
    "            labelFontSize= 14\n",
    "        ),\n",
    "    ),\n",
    "    text = \"count(classification):Q\"\n",
    ")\n",
    "\n",
    "agg_fig = alt.layer(agg_pa, agg_text)\n",
    "agg_fig"
   ]
  },
  {
   "cell_type": "code",
   "execution_count": 21,
   "id": "86142c91",
   "metadata": {},
   "outputs": [],
   "source": [
    "count_fig = alt.Chart(finalized_annotations).mark_bar(size=20).encode(\n",
    "    x = alt.X(\n",
    "        \"count(classification):Q\",\n",
    "        title = [\"Number of users\"],\n",
    "        axis=alt.Axis(\n",
    "            title=None,\n",
    "            labels=False,\n",
    "            ticks=False\n",
    "        )\n",
    "    ),\n",
    "    y = alt.Y(\n",
    "        \"classification:N\",\n",
    "        sort = alt.EncodingSortField(\n",
    "            op = \"count\",\n",
    "            order = \"descending\"\n",
    "        ),\n",
    "        title = None\n",
    "    ),\n",
    "    color = alt.Color(\n",
    "        \"political_affiliation:N\",\n",
    "        scale=alt.Scale(\n",
    "            domain=[\"left\",\"right\",\"n/a\"],\n",
    "            range=[\"blue\",\"red\",\"silver\"]\n",
    "        ),\n",
    "        legend = alt.Legend(\n",
    "            title = [\"Political affiliation\"],\n",
    "            titleFontSize=15,\n",
    "            labelFontSize=14\n",
    "        )\n",
    "    )\n",
    ").properties(width = 650, height = 300)\n",
    "\n",
    "\n",
    "count_text = alt.Chart(finalized_annotations).mark_text(\n",
    "    align=\"left\",\n",
    "    dx=4,\n",
    "    fontSize=16\n",
    ").encode(\n",
    "    x = alt.X(\n",
    "        \"count(classification):Q\",\n",
    "        scale = alt.Scale(domain=[0,140]),\n",
    "        axis = alt.Axis(\n",
    "            title = [\"Number of users\"],\n",
    "            titleFontSize = 15,\n",
    "            labelFontSize= 14\n",
    "        ),\n",
    "    ),\n",
    "    y = alt.Y(\n",
    "        \"classification:N\",\n",
    "        axis = alt.Axis(\n",
    "            title = None,\n",
    "            labelFontSize= 14\n",
    "        ),\n",
    "        sort = alt.EncodingSortField(\n",
    "            op = \"count\",\n",
    "            order = \"descending\"\n",
    "        ),\n",
    "    ),\n",
    "    text = \"count(classification):Q\"\n",
    ")\n",
    "\n",
    "class_counts = alt.layer(count_fig, count_text)"
   ]
  },
  {
   "cell_type": "code",
   "execution_count": 22,
   "id": "e3957b4b",
   "metadata": {},
   "outputs": [
    {
     "data": {
      "text/html": [
       "\n",
       "<div id=\"altair-viz-b405847a31104146b498535e32e3d16d\"></div>\n",
       "<script type=\"text/javascript\">\n",
       "  var VEGA_DEBUG = (typeof VEGA_DEBUG == \"undefined\") ? {} : VEGA_DEBUG;\n",
       "  (function(spec, embedOpt){\n",
       "    let outputDiv = document.currentScript.previousElementSibling;\n",
       "    if (outputDiv.id !== \"altair-viz-b405847a31104146b498535e32e3d16d\") {\n",
       "      outputDiv = document.getElementById(\"altair-viz-b405847a31104146b498535e32e3d16d\");\n",
       "    }\n",
       "    const paths = {\n",
       "      \"vega\": \"https://cdn.jsdelivr.net/npm//vega@5?noext\",\n",
       "      \"vega-lib\": \"https://cdn.jsdelivr.net/npm//vega-lib?noext\",\n",
       "      \"vega-lite\": \"https://cdn.jsdelivr.net/npm//vega-lite@4.17.0?noext\",\n",
       "      \"vega-embed\": \"https://cdn.jsdelivr.net/npm//vega-embed@6?noext\",\n",
       "    };\n",
       "\n",
       "    function maybeLoadScript(lib, version) {\n",
       "      var key = `${lib.replace(\"-\", \"\")}_version`;\n",
       "      return (VEGA_DEBUG[key] == version) ?\n",
       "        Promise.resolve(paths[lib]) :\n",
       "        new Promise(function(resolve, reject) {\n",
       "          var s = document.createElement('script');\n",
       "          document.getElementsByTagName(\"head\")[0].appendChild(s);\n",
       "          s.async = true;\n",
       "          s.onload = () => {\n",
       "            VEGA_DEBUG[key] = version;\n",
       "            return resolve(paths[lib]);\n",
       "          };\n",
       "          s.onerror = () => reject(`Error loading script: ${paths[lib]}`);\n",
       "          s.src = paths[lib];\n",
       "        });\n",
       "    }\n",
       "\n",
       "    function showError(err) {\n",
       "      outputDiv.innerHTML = `<div class=\"error\" style=\"color:red;\">${err}</div>`;\n",
       "      throw err;\n",
       "    }\n",
       "\n",
       "    function displayChart(vegaEmbed) {\n",
       "      vegaEmbed(outputDiv, spec, embedOpt)\n",
       "        .catch(err => showError(`Javascript Error: ${err.message}<br>This usually means there's a typo in your chart specification. See the javascript console for the full traceback.`));\n",
       "    }\n",
       "\n",
       "    if(typeof define === \"function\" && define.amd) {\n",
       "      requirejs.config({paths});\n",
       "      require([\"vega-embed\"], displayChart, err => showError(`Error loading script: ${err.message}`));\n",
       "    } else {\n",
       "      maybeLoadScript(\"vega\", \"5\")\n",
       "        .then(() => maybeLoadScript(\"vega-lite\", \"4.17.0\"))\n",
       "        .then(() => maybeLoadScript(\"vega-embed\", \"6\"))\n",
       "        .catch(showError)\n",
       "        .then(() => displayChart(vegaEmbed));\n",
       "    }\n",
       "  })({\"config\": {\"view\": {\"continuousWidth\": 400, \"continuousHeight\": 300}}, \"vconcat\": [{\"layer\": [{\"mark\": {\"type\": \"bar\", \"size\": 20}, \"encoding\": {\"color\": {\"field\": \"political_affiliation\", \"legend\": {\"labelFontSize\": 14, \"title\": [\"Political affiliation\"], \"titleFontSize\": 15}, \"scale\": {\"domain\": [\"left\", \"right\", \"n/a\"], \"range\": [\"blue\", \"red\", \"silver\"]}, \"type\": \"nominal\"}, \"x\": {\"aggregate\": \"count\", \"axis\": {\"labels\": false, \"ticks\": false, \"title\": null}, \"field\": \"classification\", \"title\": [\"Number of users\"], \"type\": \"quantitative\"}, \"y\": {\"field\": \"classification\", \"sort\": {\"op\": \"count\", \"order\": \"descending\"}, \"title\": null, \"type\": \"nominal\"}}, \"height\": 300, \"width\": 650}, {\"mark\": {\"type\": \"text\", \"align\": \"left\", \"dx\": 4, \"fontSize\": 16}, \"encoding\": {\"text\": {\"aggregate\": \"count\", \"field\": \"classification\", \"type\": \"quantitative\"}, \"x\": {\"aggregate\": \"count\", \"axis\": {\"labelFontSize\": 14, \"title\": [\"Number of users\"], \"titleFontSize\": 15}, \"field\": \"classification\", \"scale\": {\"domain\": [0, 140]}, \"type\": \"quantitative\"}, \"y\": {\"axis\": {\"labelFontSize\": 14, \"title\": null}, \"field\": \"classification\", \"sort\": {\"op\": \"count\", \"order\": \"descending\"}, \"type\": \"nominal\"}}}], \"data\": {\"name\": \"data-cd781d98cf3b9aaf406ed15ac1062ad6\"}}, {\"layer\": [{\"mark\": {\"type\": \"bar\", \"size\": 20}, \"encoding\": {\"color\": {\"field\": \"political_affiliation\", \"scale\": {\"domain\": [\"left\", \"right\", \"n/a\"], \"range\": [\"blue\", \"red\", \"silver\"]}, \"type\": \"nominal\"}, \"x\": {\"aggregate\": \"count\", \"field\": \"classification\", \"scale\": {\"domain\": [0, 140]}, \"title\": [\"Number of users\"], \"type\": \"quantitative\"}, \"y\": {\"axis\": {\"labelFontSize\": 14, \"title\": null}, \"field\": \"label\", \"type\": \"nominal\"}}, \"width\": 650}, {\"mark\": {\"type\": \"text\", \"align\": \"left\", \"dx\": 4, \"fontSize\": 16}, \"encoding\": {\"text\": {\"aggregate\": \"count\", \"field\": \"classification\", \"type\": \"quantitative\"}, \"x\": {\"aggregate\": \"count\", \"axis\": {\"labelFontSize\": 14, \"title\": [\"Number of users\"], \"titleFontSize\": 15}, \"field\": \"classification\", \"scale\": {\"domain\": [0, 140]}, \"type\": \"quantitative\"}, \"y\": {\"axis\": {\"labelFontSize\": 14, \"title\": null}, \"field\": \"label\", \"type\": \"nominal\"}}}], \"data\": {\"name\": \"data-b7ac14492cfc1072454b8303f4d11aab\"}}], \"spacing\": 5, \"$schema\": \"https://vega.github.io/schema/vega-lite/v4.17.0.json\", \"datasets\": {\"data-cd781d98cf3b9aaf406ed15ac1062ad6\": [{\"user_id\": \"861186587144577025\", \"classification\": \"not active\", \"political_affiliation\": \"n/a\"}, {\"user_id\": \"1134618385495527425\", \"classification\": \"other\", \"political_affiliation\": \"n/a\"}, {\"user_id\": \"875017115979403264\", \"classification\": \"not active\", \"political_affiliation\": \"n/a\"}, {\"user_id\": \"1199522589573554176\", \"classification\": \"not active\", \"political_affiliation\": \"n/a\"}, {\"user_id\": \"864934909961523200\", \"classification\": \"not active\", \"political_affiliation\": \"n/a\"}, {\"user_id\": \"829717519\", \"classification\": \"not active\", \"political_affiliation\": \"n/a\"}, {\"user_id\": \"3314383418\", \"classification\": \"political\", \"political_affiliation\": \"right\"}, {\"user_id\": \"3155188814\", \"classification\": \"not active\", \"political_affiliation\": \"n/a\"}, {\"user_id\": \"462104542\", \"classification\": \"new media\", \"political_affiliation\": \"right\"}, {\"user_id\": \"17980523\", \"classification\": \"not active\", \"political_affiliation\": \"n/a\"}, {\"user_id\": \"23360808\", \"classification\": \"not active\", \"political_affiliation\": \"n/a\"}, {\"user_id\": \"29398579\", \"classification\": \"media aff.\", \"political_affiliation\": \"right\"}, {\"user_id\": \"1018425398869282817\", \"classification\": \"other\", \"political_affiliation\": \"n/a\"}, {\"user_id\": \"2176476241\", \"classification\": \"political\", \"political_affiliation\": \"right\"}, {\"user_id\": \"752214001\", \"classification\": \"not active\", \"political_affiliation\": \"n/a\"}, {\"user_id\": \"16585101\", \"classification\": \"not active\", \"political_affiliation\": \"n/a\"}, {\"user_id\": \"1010682068131557376\", \"classification\": \"not active\", \"political_affiliation\": \"n/a\"}, {\"user_id\": \"22240612\", \"classification\": \"media outlet\", \"political_affiliation\": \"n/a\"}, {\"user_id\": \"711267839\", \"classification\": \"not active\", \"political_affiliation\": \"n/a\"}, {\"user_id\": \"3394053112\", \"classification\": \"not active\", \"political_affiliation\": \"n/a\"}, {\"user_id\": \"406483952\", \"classification\": \"not active\", \"political_affiliation\": \"n/a\"}, {\"user_id\": \"2369910918\", \"classification\": \"not active\", \"political_affiliation\": \"n/a\"}, {\"user_id\": \"815552224046829568\", \"classification\": \"not active\", \"political_affiliation\": \"n/a\"}, {\"user_id\": \"186562905\", \"classification\": \"political\", \"political_affiliation\": \"right\"}, {\"user_id\": \"859592034\", \"classification\": \"not active\", \"political_affiliation\": \"n/a\"}, {\"user_id\": \"1494835716\", \"classification\": \"political\", \"political_affiliation\": \"right\"}, {\"user_id\": \"4765364386\", \"classification\": \"political\", \"political_affiliation\": \"right\"}, {\"user_id\": \"1274690550\", \"classification\": \"other\", \"political_affiliation\": \"n/a\"}, {\"user_id\": \"806168918754660352\", \"classification\": \"not active\", \"political_affiliation\": \"n/a\"}, {\"user_id\": \"734168909553766405\", \"classification\": \"political\", \"political_affiliation\": \"right\"}, {\"user_id\": \"41634520\", \"classification\": \"broad. news\", \"political_affiliation\": \"right\"}, {\"user_id\": \"39743812\", \"classification\": \"media outlet\", \"political_affiliation\": \"n/a\"}, {\"user_id\": \"878916812\", \"classification\": \"political\", \"political_affiliation\": \"right\"}, {\"user_id\": \"921880207870459904\", \"classification\": \"media outlet\", \"political_affiliation\": \"right\"}, {\"user_id\": \"1088817055602757633\", \"classification\": \"political\", \"political_affiliation\": \"right\"}, {\"user_id\": \"234497162\", \"classification\": \"not active\", \"political_affiliation\": \"n/a\"}, {\"user_id\": \"43753976\", \"classification\": \"political\", \"political_affiliation\": \"right\"}, {\"user_id\": \"310965182\", \"classification\": \"not active\", \"political_affiliation\": \"n/a\"}, {\"user_id\": \"272064857\", \"classification\": \"not active\", \"political_affiliation\": \"n/a\"}, {\"user_id\": \"1199631548095619072\", \"classification\": \"not active\", \"political_affiliation\": \"n/a\"}, {\"user_id\": \"478855762\", \"classification\": \"political\", \"political_affiliation\": \"right\"}, {\"user_id\": \"1134783407223975937\", \"classification\": \"not active\", \"political_affiliation\": \"n/a\"}, {\"user_id\": \"804435407400095745\", \"classification\": \"not active\", \"political_affiliation\": \"n/a\"}, {\"user_id\": \"1162682346094522370\", \"classification\": \"political\", \"political_affiliation\": \"right\"}, {\"user_id\": \"3192962633\", \"classification\": \"not active\", \"political_affiliation\": \"n/a\"}, {\"user_id\": \"446228264\", \"classification\": \"political\", \"political_affiliation\": \"right\"}, {\"user_id\": \"1196926455990632449\", \"classification\": \"media outlet\", \"political_affiliation\": \"right\"}, {\"user_id\": \"1217456391251808256\", \"classification\": \"not active\", \"political_affiliation\": \"n/a\"}, {\"user_id\": \"1191935744220246016\", \"classification\": \"not active\", \"political_affiliation\": \"n/a\"}, {\"user_id\": \"822510151642923009\", \"classification\": \"not active\", \"political_affiliation\": \"n/a\"}, {\"user_id\": \"1134666552718925824\", \"classification\": \"not active\", \"political_affiliation\": \"n/a\"}, {\"user_id\": \"1036239330984054784\", \"classification\": \"political\", \"political_affiliation\": \"right\"}, {\"user_id\": \"1121554471\", \"classification\": \"hard news\", \"political_affiliation\": \"right\"}, {\"user_id\": \"2248093283\", \"classification\": \"not active\", \"political_affiliation\": \"n/a\"}, {\"user_id\": \"2413821780\", \"classification\": \"media outlet\", \"political_affiliation\": \"n/a\"}, {\"user_id\": \"725064846056640512\", \"classification\": \"not active\", \"political_affiliation\": \"n/a\"}, {\"user_id\": \"803017539903029248\", \"classification\": \"political\", \"political_affiliation\": \"right\"}, {\"user_id\": \"997312910748680192\", \"classification\": \"not active\", \"political_affiliation\": \"n/a\"}, {\"user_id\": \"25251653\", \"classification\": \"not active\", \"political_affiliation\": \"n/a\"}, {\"user_id\": \"870468896255385601\", \"classification\": \"not active\", \"political_affiliation\": \"n/a\"}, {\"user_id\": \"923368757803847680\", \"classification\": \"not active\", \"political_affiliation\": \"n/a\"}, {\"user_id\": \"811308998108573696\", \"classification\": \"not active\", \"political_affiliation\": \"n/a\"}, {\"user_id\": \"19130146\", \"classification\": \"media aff.\", \"political_affiliation\": \"right\"}, {\"user_id\": \"895286614431346688\", \"classification\": \"political\", \"political_affiliation\": \"right\"}, {\"user_id\": \"1071493866489044993\", \"classification\": \"other\", \"political_affiliation\": \"n/a\"}, {\"user_id\": \"764261361044037632\", \"classification\": \"not active\", \"political_affiliation\": \"n/a\"}, {\"user_id\": \"1162759864939999237\", \"classification\": \"not active\", \"political_affiliation\": \"n/a\"}, {\"user_id\": \"3283495219\", \"classification\": \"not active\", \"political_affiliation\": \"n/a\"}, {\"user_id\": \"2950103415\", \"classification\": \"not active\", \"political_affiliation\": \"n/a\"}, {\"user_id\": \"1215417589414821889\", \"classification\": \"not active\", \"political_affiliation\": \"n/a\"}, {\"user_id\": \"1674315427\", \"classification\": \"not active\", \"political_affiliation\": \"n/a\"}, {\"user_id\": \"29873671\", \"classification\": \"political\", \"political_affiliation\": \"right\"}, {\"user_id\": \"3775360879\", \"classification\": \"organization\", \"political_affiliation\": \"n/a\"}, {\"user_id\": \"1153042794375712770\", \"classification\": \"political\", \"political_affiliation\": \"right\"}, {\"user_id\": \"47957425\", \"classification\": \"not active\", \"political_affiliation\": \"n/a\"}, {\"user_id\": \"232901331\", \"classification\": \"political\", \"political_affiliation\": \"right\"}, {\"user_id\": \"138889809\", \"classification\": \"political\", \"political_affiliation\": \"right\"}, {\"user_id\": \"162301746\", \"classification\": \"political\", \"political_affiliation\": \"right\"}, {\"user_id\": \"1906242157\", \"classification\": \"not active\", \"political_affiliation\": \"n/a\"}, {\"user_id\": \"1096854816423170048\", \"classification\": \"not active\", \"political_affiliation\": \"n/a\"}, {\"user_id\": \"1229160464\", \"classification\": \"not active\", \"political_affiliation\": \"n/a\"}, {\"user_id\": \"920006546829975553\", \"classification\": \"not active\", \"political_affiliation\": \"n/a\"}, {\"user_id\": \"1106312355267469312\", \"classification\": \"political\", \"political_affiliation\": \"right\"}, {\"user_id\": \"1424605753\", \"classification\": \"not active\", \"political_affiliation\": \"n/a\"}, {\"user_id\": \"1026684533364547594\", \"classification\": \"not active\", \"political_affiliation\": \"n/a\"}, {\"user_id\": \"403647191\", \"classification\": \"not active\", \"political_affiliation\": \"n/a\"}, {\"user_id\": \"266237495\", \"classification\": \"not active\", \"political_affiliation\": \"n/a\"}, {\"user_id\": \"562255311\", \"classification\": \"not active\", \"political_affiliation\": \"n/a\"}, {\"user_id\": \"1225779630\", \"classification\": \"not active\", \"political_affiliation\": \"n/a\"}, {\"user_id\": \"1219007111239282688\", \"classification\": \"not active\", \"political_affiliation\": \"n/a\"}, {\"user_id\": \"414223436\", \"classification\": \"not active\", \"political_affiliation\": \"n/a\"}, {\"user_id\": \"83182871\", \"classification\": \"intellectual\", \"political_affiliation\": \"n/a\"}, {\"user_id\": \"769739202963517440\", \"classification\": \"not active\", \"political_affiliation\": \"n/a\"}, {\"user_id\": \"1478430702\", \"classification\": \"not active\", \"political_affiliation\": \"n/a\"}, {\"user_id\": \"1176477972515213312\", \"classification\": \"not active\", \"political_affiliation\": \"n/a\"}, {\"user_id\": \"19422491\", \"classification\": \"new media\", \"political_affiliation\": \"left\"}, {\"user_id\": \"94120026\", \"classification\": \"other\", \"political_affiliation\": \"n/a\"}, {\"user_id\": \"2433154158\", \"classification\": \"not active\", \"political_affiliation\": \"n/a\"}, {\"user_id\": \"499230066\", \"classification\": \"other\", \"political_affiliation\": \"n/a\"}, {\"user_id\": \"18643437\", \"classification\": \"political\", \"political_affiliation\": \"right\"}, {\"user_id\": \"2757833205\", \"classification\": \"political\", \"political_affiliation\": \"right\"}, {\"user_id\": \"49023129\", \"classification\": \"not active\", \"political_affiliation\": \"n/a\"}, {\"user_id\": \"16279880\", \"classification\": \"political\", \"political_affiliation\": \"right\"}, {\"user_id\": \"802121664\", \"classification\": \"political\", \"political_affiliation\": \"right\"}, {\"user_id\": \"2713937910\", \"classification\": \"pub. service\", \"political_affiliation\": \"n/a\"}, {\"user_id\": \"115279420\", \"classification\": \"other\", \"political_affiliation\": \"n/a\"}, {\"user_id\": \"21150492\", \"classification\": \"intellectual\", \"political_affiliation\": \"n/a\"}, {\"user_id\": \"101779040\", \"classification\": \"intellectual\", \"political_affiliation\": \"n/a\"}, {\"user_id\": \"1697365488\", \"classification\": \"not active\", \"political_affiliation\": \"n/a\"}, {\"user_id\": \"1000141948269678592\", \"classification\": \"political\", \"political_affiliation\": \"right\"}, {\"user_id\": \"347586568\", \"classification\": \"not active\", \"political_affiliation\": \"n/a\"}, {\"user_id\": \"424664120\", \"classification\": \"not active\", \"political_affiliation\": \"n/a\"}, {\"user_id\": \"275276082\", \"classification\": \"political\", \"political_affiliation\": \"right\"}, {\"user_id\": \"822901284655210497\", \"classification\": \"not active\", \"political_affiliation\": \"n/a\"}, {\"user_id\": \"477174486\", \"classification\": \"not active\", \"political_affiliation\": \"n/a\"}, {\"user_id\": \"959856286061006848\", \"classification\": \"not active\", \"political_affiliation\": \"n/a\"}, {\"user_id\": \"1118205222726307842\", \"classification\": \"not active\", \"political_affiliation\": \"n/a\"}, {\"user_id\": \"800086706678419456\", \"classification\": \"not active\", \"political_affiliation\": \"n/a\"}, {\"user_id\": \"586707638\", \"classification\": \"not active\", \"political_affiliation\": \"n/a\"}, {\"user_id\": \"2923411356\", \"classification\": \"pub. service\", \"political_affiliation\": \"n/a\"}, {\"user_id\": \"11454572\", \"classification\": \"not active\", \"political_affiliation\": \"n/a\"}, {\"user_id\": \"826339456223498240\", \"classification\": \"not active\", \"political_affiliation\": \"n/a\"}, {\"user_id\": \"592730371\", \"classification\": \"political\", \"political_affiliation\": \"right\"}, {\"user_id\": \"561310591\", \"classification\": \"not active\", \"political_affiliation\": \"n/a\"}, {\"user_id\": \"741419766867337216\", \"classification\": \"not active\", \"political_affiliation\": \"n/a\"}, {\"user_id\": \"43596406\", \"classification\": \"not active\", \"political_affiliation\": \"n/a\"}, {\"user_id\": \"4665676362\", \"classification\": \"not active\", \"political_affiliation\": \"n/a\"}, {\"user_id\": \"116356889\", \"classification\": \"political\", \"political_affiliation\": \"right\"}, {\"user_id\": \"2725865306\", \"classification\": \"not active\", \"political_affiliation\": \"n/a\"}, {\"user_id\": \"40899671\", \"classification\": \"not active\", \"political_affiliation\": \"n/a\"}, {\"user_id\": \"1904739704\", \"classification\": \"not active\", \"political_affiliation\": \"n/a\"}, {\"user_id\": \"18247062\", \"classification\": \"political\", \"political_affiliation\": \"right\"}, {\"user_id\": \"58691526\", \"classification\": \"not active\", \"political_affiliation\": \"n/a\"}, {\"user_id\": \"3507100335\", \"classification\": \"not active\", \"political_affiliation\": \"n/a\"}, {\"user_id\": \"1023362107\", \"classification\": \"not active\", \"political_affiliation\": \"n/a\"}, {\"user_id\": \"839099917121511425\", \"classification\": \"political\", \"political_affiliation\": \"right\"}, {\"user_id\": \"897210765949648896\", \"classification\": \"not active\", \"political_affiliation\": \"n/a\"}, {\"user_id\": \"2333707213\", \"classification\": \"not active\", \"political_affiliation\": \"n/a\"}, {\"user_id\": \"18266688\", \"classification\": \"political\", \"political_affiliation\": \"right\"}, {\"user_id\": \"2451476942\", \"classification\": \"media outlet\", \"political_affiliation\": \"right\"}, {\"user_id\": \"1168793817148821504\", \"classification\": \"not active\", \"political_affiliation\": \"n/a\"}, {\"user_id\": \"899115298997055491\", \"classification\": \"not active\", \"political_affiliation\": \"n/a\"}, {\"user_id\": \"298633547\", \"classification\": \"not active\", \"political_affiliation\": \"n/a\"}, {\"user_id\": \"23023227\", \"classification\": \"not active\", \"political_affiliation\": \"n/a\"}, {\"user_id\": \"413513361\", \"classification\": \"not active\", \"political_affiliation\": \"n/a\"}, {\"user_id\": \"348113898\", \"classification\": \"not active\", \"political_affiliation\": \"n/a\"}, {\"user_id\": \"966716807452258304\", \"classification\": \"not active\", \"political_affiliation\": \"n/a\"}, {\"user_id\": \"2981776113\", \"classification\": \"political\", \"political_affiliation\": \"right\"}, {\"user_id\": \"187022370\", \"classification\": \"not active\", \"political_affiliation\": \"n/a\"}, {\"user_id\": \"975217231\", \"classification\": \"not active\", \"political_affiliation\": \"n/a\"}, {\"user_id\": \"435704007\", \"classification\": \"other\", \"political_affiliation\": \"n/a\"}, {\"user_id\": \"1134691864425033730\", \"classification\": \"not active\", \"political_affiliation\": \"n/a\"}, {\"user_id\": \"965259182\", \"classification\": \"not active\", \"political_affiliation\": \"n/a\"}, {\"user_id\": \"92928883\", \"classification\": \"political\", \"political_affiliation\": \"right\"}, {\"user_id\": \"123617604\", \"classification\": \"political\", \"political_affiliation\": \"right\"}, {\"user_id\": \"57431771\", \"classification\": \"not active\", \"political_affiliation\": \"n/a\"}, {\"user_id\": \"56491860\", \"classification\": \"not active\", \"political_affiliation\": \"n/a\"}, {\"user_id\": \"1886468286\", \"classification\": \"not active\", \"political_affiliation\": \"n/a\"}, {\"user_id\": \"69557688\", \"classification\": \"other\", \"political_affiliation\": \"n/a\"}, {\"user_id\": \"782018153207431168\", \"classification\": \"organization\", \"political_affiliation\": \"n/a\"}, {\"user_id\": \"1216789842\", \"classification\": \"political\", \"political_affiliation\": \"left\"}, {\"user_id\": \"913416571548205057\", \"classification\": \"not active\", \"political_affiliation\": \"n/a\"}, {\"user_id\": \"1037648264672079872\", \"classification\": \"other\", \"political_affiliation\": \"n/a\"}, {\"user_id\": \"2924521080\", \"classification\": \"intellectual\", \"political_affiliation\": \"n/a\"}, {\"user_id\": \"126911579\", \"classification\": \"media aff.\", \"political_affiliation\": \"n/a\"}, {\"user_id\": \"806347865073315844\", \"classification\": \"political\", \"political_affiliation\": \"right\"}, {\"user_id\": \"850036892\", \"classification\": \"not active\", \"political_affiliation\": \"n/a\"}, {\"user_id\": \"727137760574857216\", \"classification\": \"political\", \"political_affiliation\": \"right\"}, {\"user_id\": \"1546656000\", \"classification\": \"not active\", \"political_affiliation\": \"n/a\"}, {\"user_id\": \"2256965582\", \"classification\": \"not active\", \"political_affiliation\": \"n/a\"}, {\"user_id\": \"49682880\", \"classification\": \"political\", \"political_affiliation\": \"left\"}, {\"user_id\": \"86177206\", \"classification\": \"political\", \"political_affiliation\": \"right\"}, {\"user_id\": \"1909921760\", \"classification\": \"not active\", \"political_affiliation\": \"n/a\"}, {\"user_id\": \"187936720\", \"classification\": \"not active\", \"political_affiliation\": \"n/a\"}, {\"user_id\": \"940430173517811714\", \"classification\": \"not active\", \"political_affiliation\": \"n/a\"}, {\"user_id\": \"954124423\", \"classification\": \"political\", \"political_affiliation\": \"right\"}, {\"user_id\": \"1049162319941517312\", \"classification\": \"not active\", \"political_affiliation\": \"n/a\"}, {\"user_id\": \"2417586104\", \"classification\": \"political\", \"political_affiliation\": \"right\"}, {\"user_id\": \"1392956425\", \"classification\": \"other\", \"political_affiliation\": \"n/a\"}, {\"user_id\": \"2946730163\", \"classification\": \"not active\", \"political_affiliation\": \"n/a\"}, {\"user_id\": \"16740433\", \"classification\": \"not active\", \"political_affiliation\": \"n/a\"}, {\"user_id\": \"22677397\", \"classification\": \"political\", \"political_affiliation\": \"right\"}, {\"user_id\": \"9427572\", \"classification\": \"not active\", \"political_affiliation\": \"n/a\"}, {\"user_id\": \"50434327\", \"classification\": \"not active\", \"political_affiliation\": \"n/a\"}, {\"user_id\": \"969444209940889600\", \"classification\": \"not active\", \"political_affiliation\": \"n/a\"}, {\"user_id\": \"39344374\", \"classification\": \"political\", \"political_affiliation\": \"right\"}, {\"user_id\": \"4798259061\", \"classification\": \"not active\", \"political_affiliation\": \"n/a\"}, {\"user_id\": \"903313767596822528\", \"classification\": \"media outlet\", \"political_affiliation\": \"right\"}, {\"user_id\": \"16989178\", \"classification\": \"not active\", \"political_affiliation\": \"n/a\"}, {\"user_id\": \"4918885219\", \"classification\": \"not active\", \"political_affiliation\": \"n/a\"}, {\"user_id\": \"3353061012\", \"classification\": \"not active\", \"political_affiliation\": \"n/a\"}, {\"user_id\": \"2795404498\", \"classification\": \"not active\", \"political_affiliation\": \"n/a\"}, {\"user_id\": \"244351421\", \"classification\": \"not active\", \"political_affiliation\": \"n/a\"}, {\"user_id\": \"83932539\", \"classification\": \"not active\", \"political_affiliation\": \"n/a\"}, {\"user_id\": \"16589206\", \"classification\": \"organization\", \"political_affiliation\": \"n/a\"}, {\"user_id\": \"1146225861743403008\", \"classification\": \"other\", \"political_affiliation\": \"n/a\"}, {\"user_id\": \"941729680381550592\", \"classification\": \"not active\", \"political_affiliation\": \"n/a\"}, {\"user_id\": \"917501529480765441\", \"classification\": \"not active\", \"political_affiliation\": \"n/a\"}, {\"user_id\": \"46934022\", \"classification\": \"not active\", \"political_affiliation\": \"n/a\"}, {\"user_id\": \"18837791\", \"classification\": \"intellectual\", \"political_affiliation\": \"n/a\"}, {\"user_id\": \"85498982\", \"classification\": \"not active\", \"political_affiliation\": \"n/a\"}, {\"user_id\": \"14247236\", \"classification\": \"political\", \"political_affiliation\": \"left\"}, {\"user_id\": \"1157673159128207361\", \"classification\": \"not active\", \"political_affiliation\": \"n/a\"}, {\"user_id\": \"770781940341288960\", \"classification\": \"political\", \"political_affiliation\": \"right\"}, {\"user_id\": \"2315583427\", \"classification\": \"not active\", \"political_affiliation\": \"n/a\"}, {\"user_id\": \"1177221975921610753\", \"classification\": \"not active\", \"political_affiliation\": \"n/a\"}, {\"user_id\": \"3220084809\", \"classification\": \"not active\", \"political_affiliation\": \"n/a\"}, {\"user_id\": \"43035019\", \"classification\": \"not active\", \"political_affiliation\": \"n/a\"}, {\"user_id\": \"915231714724712448\", \"classification\": \"not active\", \"political_affiliation\": \"n/a\"}, {\"user_id\": \"52544275\", \"classification\": \"political\", \"political_affiliation\": \"right\"}, {\"user_id\": \"1344897174\", \"classification\": \"media aff.\", \"political_affiliation\": \"n/a\"}, {\"user_id\": \"11134252\", \"classification\": \"political\", \"political_affiliation\": \"right\"}, {\"user_id\": \"4789453135\", \"classification\": \"other\", \"political_affiliation\": \"n/a\"}, {\"user_id\": \"3369234799\", \"classification\": \"new media\", \"political_affiliation\": \"n/a\"}, {\"user_id\": \"1148711615686160384\", \"classification\": \"media aff.\", \"political_affiliation\": \"right\"}, {\"user_id\": \"19553409\", \"classification\": \"political\", \"political_affiliation\": \"right\"}, {\"user_id\": \"14377605\", \"classification\": \"political\", \"political_affiliation\": \"left\"}, {\"user_id\": \"856991644134068224\", \"classification\": \"media outlet\", \"political_affiliation\": \"right\"}, {\"user_id\": \"631310817\", \"classification\": \"new media\", \"political_affiliation\": \"right\"}, {\"user_id\": \"26028938\", \"classification\": \"media outlet\", \"political_affiliation\": \"n/a\"}, {\"user_id\": \"1340481373\", \"classification\": \"other\", \"political_affiliation\": \"n/a\"}, {\"user_id\": \"898577623885819904\", \"classification\": \"not active\", \"political_affiliation\": \"n/a\"}, {\"user_id\": \"95588504\", \"classification\": \"political\", \"political_affiliation\": \"right\"}, {\"user_id\": \"27493883\", \"classification\": \"political\", \"political_affiliation\": \"left\"}, {\"user_id\": \"125128723\", \"classification\": \"media aff.\", \"political_affiliation\": \"right\"}, {\"user_id\": \"2748355923\", \"classification\": \"media aff.\", \"political_affiliation\": \"n/a\"}, {\"user_id\": \"1194770389634895873\", \"classification\": \"media outlet\", \"political_affiliation\": \"right\"}, {\"user_id\": \"16269666\", \"classification\": \"media outlet\", \"political_affiliation\": \"n/a\"}, {\"user_id\": \"73928096\", \"classification\": \"organization\", \"political_affiliation\": \"n/a\"}, {\"user_id\": \"594886554\", \"classification\": \"political\", \"political_affiliation\": \"right\"}, {\"user_id\": \"375721095\", \"classification\": \"media outlet\", \"political_affiliation\": \"n/a\"}, {\"user_id\": \"341194704\", \"classification\": \"political\", \"political_affiliation\": \"right\"}], \"data-b7ac14492cfc1072454b8303f4d11aab\": [{\"user_id\": \"3314383418\", \"classification\": \"political\", \"political_affiliation\": \"right\", \"label\": \"any political affiliation\"}, {\"user_id\": \"462104542\", \"classification\": \"new media\", \"political_affiliation\": \"right\", \"label\": \"any political affiliation\"}, {\"user_id\": \"29398579\", \"classification\": \"media aff.\", \"political_affiliation\": \"right\", \"label\": \"any political affiliation\"}, {\"user_id\": \"2176476241\", \"classification\": \"political\", \"political_affiliation\": \"right\", \"label\": \"any political affiliation\"}, {\"user_id\": \"186562905\", \"classification\": \"political\", \"political_affiliation\": \"right\", \"label\": \"any political affiliation\"}, {\"user_id\": \"1494835716\", \"classification\": \"political\", \"political_affiliation\": \"right\", \"label\": \"any political affiliation\"}, {\"user_id\": \"4765364386\", \"classification\": \"political\", \"political_affiliation\": \"right\", \"label\": \"any political affiliation\"}, {\"user_id\": \"734168909553766405\", \"classification\": \"political\", \"political_affiliation\": \"right\", \"label\": \"any political affiliation\"}, {\"user_id\": \"41634520\", \"classification\": \"broad. news\", \"political_affiliation\": \"right\", \"label\": \"any political affiliation\"}, {\"user_id\": \"878916812\", \"classification\": \"political\", \"political_affiliation\": \"right\", \"label\": \"any political affiliation\"}, {\"user_id\": \"921880207870459904\", \"classification\": \"media outlet\", \"political_affiliation\": \"right\", \"label\": \"any political affiliation\"}, {\"user_id\": \"1088817055602757633\", \"classification\": \"political\", \"political_affiliation\": \"right\", \"label\": \"any political affiliation\"}, {\"user_id\": \"43753976\", \"classification\": \"political\", \"political_affiliation\": \"right\", \"label\": \"any political affiliation\"}, {\"user_id\": \"478855762\", \"classification\": \"political\", \"political_affiliation\": \"right\", \"label\": \"any political affiliation\"}, {\"user_id\": \"1162682346094522370\", \"classification\": \"political\", \"political_affiliation\": \"right\", \"label\": \"any political affiliation\"}, {\"user_id\": \"446228264\", \"classification\": \"political\", \"political_affiliation\": \"right\", \"label\": \"any political affiliation\"}, {\"user_id\": \"1196926455990632449\", \"classification\": \"media outlet\", \"political_affiliation\": \"right\", \"label\": \"any political affiliation\"}, {\"user_id\": \"1036239330984054784\", \"classification\": \"political\", \"political_affiliation\": \"right\", \"label\": \"any political affiliation\"}, {\"user_id\": \"1121554471\", \"classification\": \"hard news\", \"political_affiliation\": \"right\", \"label\": \"any political affiliation\"}, {\"user_id\": \"803017539903029248\", \"classification\": \"political\", \"political_affiliation\": \"right\", \"label\": \"any political affiliation\"}, {\"user_id\": \"19130146\", \"classification\": \"media aff.\", \"political_affiliation\": \"right\", \"label\": \"any political affiliation\"}, {\"user_id\": \"895286614431346688\", \"classification\": \"political\", \"political_affiliation\": \"right\", \"label\": \"any political affiliation\"}, {\"user_id\": \"29873671\", \"classification\": \"political\", \"political_affiliation\": \"right\", \"label\": \"any political affiliation\"}, {\"user_id\": \"1153042794375712770\", \"classification\": \"political\", \"political_affiliation\": \"right\", \"label\": \"any political affiliation\"}, {\"user_id\": \"232901331\", \"classification\": \"political\", \"political_affiliation\": \"right\", \"label\": \"any political affiliation\"}, {\"user_id\": \"138889809\", \"classification\": \"political\", \"political_affiliation\": \"right\", \"label\": \"any political affiliation\"}, {\"user_id\": \"162301746\", \"classification\": \"political\", \"political_affiliation\": \"right\", \"label\": \"any political affiliation\"}, {\"user_id\": \"1106312355267469312\", \"classification\": \"political\", \"political_affiliation\": \"right\", \"label\": \"any political affiliation\"}, {\"user_id\": \"19422491\", \"classification\": \"new media\", \"political_affiliation\": \"left\", \"label\": \"any political affiliation\"}, {\"user_id\": \"18643437\", \"classification\": \"political\", \"political_affiliation\": \"right\", \"label\": \"any political affiliation\"}, {\"user_id\": \"2757833205\", \"classification\": \"political\", \"political_affiliation\": \"right\", \"label\": \"any political affiliation\"}, {\"user_id\": \"16279880\", \"classification\": \"political\", \"political_affiliation\": \"right\", \"label\": \"any political affiliation\"}, {\"user_id\": \"802121664\", \"classification\": \"political\", \"political_affiliation\": \"right\", \"label\": \"any political affiliation\"}, {\"user_id\": \"1000141948269678592\", \"classification\": \"political\", \"political_affiliation\": \"right\", \"label\": \"any political affiliation\"}, {\"user_id\": \"275276082\", \"classification\": \"political\", \"political_affiliation\": \"right\", \"label\": \"any political affiliation\"}, {\"user_id\": \"592730371\", \"classification\": \"political\", \"political_affiliation\": \"right\", \"label\": \"any political affiliation\"}, {\"user_id\": \"116356889\", \"classification\": \"political\", \"political_affiliation\": \"right\", \"label\": \"any political affiliation\"}, {\"user_id\": \"18247062\", \"classification\": \"political\", \"political_affiliation\": \"right\", \"label\": \"any political affiliation\"}, {\"user_id\": \"839099917121511425\", \"classification\": \"political\", \"political_affiliation\": \"right\", \"label\": \"any political affiliation\"}, {\"user_id\": \"18266688\", \"classification\": \"political\", \"political_affiliation\": \"right\", \"label\": \"any political affiliation\"}, {\"user_id\": \"2451476942\", \"classification\": \"media outlet\", \"political_affiliation\": \"right\", \"label\": \"any political affiliation\"}, {\"user_id\": \"2981776113\", \"classification\": \"political\", \"political_affiliation\": \"right\", \"label\": \"any political affiliation\"}, {\"user_id\": \"92928883\", \"classification\": \"political\", \"political_affiliation\": \"right\", \"label\": \"any political affiliation\"}, {\"user_id\": \"123617604\", \"classification\": \"political\", \"political_affiliation\": \"right\", \"label\": \"any political affiliation\"}, {\"user_id\": \"1216789842\", \"classification\": \"political\", \"political_affiliation\": \"left\", \"label\": \"any political affiliation\"}, {\"user_id\": \"806347865073315844\", \"classification\": \"political\", \"political_affiliation\": \"right\", \"label\": \"any political affiliation\"}, {\"user_id\": \"727137760574857216\", \"classification\": \"political\", \"political_affiliation\": \"right\", \"label\": \"any political affiliation\"}, {\"user_id\": \"49682880\", \"classification\": \"political\", \"political_affiliation\": \"left\", \"label\": \"any political affiliation\"}, {\"user_id\": \"86177206\", \"classification\": \"political\", \"political_affiliation\": \"right\", \"label\": \"any political affiliation\"}, {\"user_id\": \"954124423\", \"classification\": \"political\", \"political_affiliation\": \"right\", \"label\": \"any political affiliation\"}, {\"user_id\": \"2417586104\", \"classification\": \"political\", \"political_affiliation\": \"right\", \"label\": \"any political affiliation\"}, {\"user_id\": \"22677397\", \"classification\": \"political\", \"political_affiliation\": \"right\", \"label\": \"any political affiliation\"}, {\"user_id\": \"39344374\", \"classification\": \"political\", \"political_affiliation\": \"right\", \"label\": \"any political affiliation\"}, {\"user_id\": \"903313767596822528\", \"classification\": \"media outlet\", \"political_affiliation\": \"right\", \"label\": \"any political affiliation\"}, {\"user_id\": \"14247236\", \"classification\": \"political\", \"political_affiliation\": \"left\", \"label\": \"any political affiliation\"}, {\"user_id\": \"770781940341288960\", \"classification\": \"political\", \"political_affiliation\": \"right\", \"label\": \"any political affiliation\"}, {\"user_id\": \"52544275\", \"classification\": \"political\", \"political_affiliation\": \"right\", \"label\": \"any political affiliation\"}, {\"user_id\": \"11134252\", \"classification\": \"political\", \"political_affiliation\": \"right\", \"label\": \"any political affiliation\"}, {\"user_id\": \"1148711615686160384\", \"classification\": \"media aff.\", \"political_affiliation\": \"right\", \"label\": \"any political affiliation\"}, {\"user_id\": \"19553409\", \"classification\": \"political\", \"political_affiliation\": \"right\", \"label\": \"any political affiliation\"}, {\"user_id\": \"14377605\", \"classification\": \"political\", \"political_affiliation\": \"left\", \"label\": \"any political affiliation\"}, {\"user_id\": \"856991644134068224\", \"classification\": \"media outlet\", \"political_affiliation\": \"right\", \"label\": \"any political affiliation\"}, {\"user_id\": \"631310817\", \"classification\": \"new media\", \"political_affiliation\": \"right\", \"label\": \"any political affiliation\"}, {\"user_id\": \"95588504\", \"classification\": \"political\", \"political_affiliation\": \"right\", \"label\": \"any political affiliation\"}, {\"user_id\": \"27493883\", \"classification\": \"political\", \"political_affiliation\": \"left\", \"label\": \"any political affiliation\"}, {\"user_id\": \"125128723\", \"classification\": \"media aff.\", \"political_affiliation\": \"right\", \"label\": \"any political affiliation\"}, {\"user_id\": \"1194770389634895873\", \"classification\": \"media outlet\", \"political_affiliation\": \"right\", \"label\": \"any political affiliation\"}, {\"user_id\": \"594886554\", \"classification\": \"political\", \"political_affiliation\": \"right\", \"label\": \"any political affiliation\"}, {\"user_id\": \"341194704\", \"classification\": \"political\", \"political_affiliation\": \"right\", \"label\": \"any political affiliation\"}]}}, {\"mode\": \"vega-lite\"});\n",
       "</script>"
      ],
      "text/plain": [
       "alt.VConcatChart(...)"
      ]
     },
     "execution_count": 22,
     "metadata": {},
     "output_type": "execute_result"
    }
   ],
   "source": [
    "alt.vconcat(class_counts, agg_fig, spacing=5)"
   ]
  },
  {
   "cell_type": "code",
   "execution_count": null,
   "id": "d3720dfc",
   "metadata": {},
   "outputs": [],
   "source": []
  }
 ],
 "metadata": {
  "kernelspec": {
   "display_name": "Python 3 (ipykernel)",
   "language": "python",
   "name": "python3"
  },
  "language_info": {
   "codemirror_mode": {
    "name": "ipython",
    "version": 3
   },
   "file_extension": ".py",
   "mimetype": "text/x-python",
   "name": "python",
   "nbconvert_exporter": "python",
   "pygments_lexer": "ipython3",
   "version": "3.9.12"
  }
 },
 "nbformat": 4,
 "nbformat_minor": 5
}
